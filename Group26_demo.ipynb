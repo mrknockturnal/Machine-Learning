{
 "cells": [
  {
   "cell_type": "markdown",
   "metadata": {},
   "source": [
    "## CSC311 – Machine Learning 2019 – GROUP 26 HAND SHAPE RECOGNITION "
   ]
  },
  {
   "cell_type": "markdown",
   "metadata": {},
   "source": [
    "### Phase 2 B Demo "
   ]
  },
  {
   "cell_type": "markdown",
   "metadata": {},
   "source": [
    "### Initializing Code"
   ]
  },
  {
   "cell_type": "code",
   "execution_count": 1,
   "metadata": {},
   "outputs": [],
   "source": [
    "import numpy as np\n",
    "import ipywidgets as widgets\n",
    "from IPython.display import display,HTML\n",
    "\n",
    "np.set_printoptions(suppress=True)\n",
    "\n",
    "from IPython.display import Markdown, display\n",
    "def printmd(string):\n",
    "    display(Markdown(string))"
   ]
  },
  {
   "cell_type": "code",
   "execution_count": 2,
   "metadata": {},
   "outputs": [
    {
     "name": "stderr",
     "output_type": "stream",
     "text": [
      "/home/mansa/anaconda3/lib/python3.7/site-packages/sklearn/linear_model/logistic.py:758: ConvergenceWarning: lbfgs failed to converge. Increase the number of iterations.\n",
      "  \"of iterations.\", ConvergenceWarning)\n"
     ]
    }
   ],
   "source": [
    "import numpy as np\n",
    "import pandas as pd\n",
    "import matplotlib.pyplot as plt\n",
    "import scipy as sp\n",
    "from PIL import Image\n",
    "from scipy import ndimage\n",
    "import test\n",
    "data = np.genfromtxt('group26_test.csv',delimiter=\",\", dtype=\"int32\")\n",
    "#Set X and y for test\n",
    "X_test = data[:,:-1]\n",
    "y_test = data[:,12288]\n",
    "\n",
    "# Scaling X\n",
    "X_test_scaled = (X_test / 255)"
   ]
  },
  {
   "cell_type": "code",
   "execution_count": 3,
   "metadata": {},
   "outputs": [],
   "source": [
    "svm_predictions = test.getsvm()\n",
    "log_predictions = test.getlog()\n",
    "neural_predictions = test.getneural()"
   ]
  },
  {
   "cell_type": "markdown",
   "metadata": {},
   "source": [
    "## Demo Begins Here"
   ]
  },
  {
   "cell_type": "code",
   "execution_count": 4,
   "metadata": {},
   "outputs": [],
   "source": [
    "import ipywidgets as widgets"
   ]
  },
  {
   "cell_type": "code",
   "execution_count": 17,
   "metadata": {},
   "outputs": [],
   "source": [
    "# generate random numbers between 0 to 300\n",
    "from random import randint"
   ]
  },
  {
   "cell_type": "code",
   "execution_count": 18,
   "metadata": {},
   "outputs": [],
   "source": [
    "# Gui elements\n",
    "\n",
    "#Start button\n",
    "b_start = widgets.Button(\n",
    "    description='Start',\n",
    "    icon='apple',\n",
    "    button_style='success',\n",
    "    layout=widgets.Layout(width='200px',height='60px',color='red',bottom='10px',top='-2px')\n",
    ")\n",
    "\n",
    "#Result button\n",
    "b_result = widgets.Button(\n",
    "    description='True Result',\n",
    "    icon='apple',\n",
    "    button_style='warning',\n",
    "    layout=widgets.Layout(width='200px',height='60px',color='red',bottom='10px',top='-2px')\n",
    ")\n"
   ]
  },
  {
   "cell_type": "code",
   "execution_count": 19,
   "metadata": {},
   "outputs": [],
   "source": [
    "#SVM button\n",
    "b_svm = widgets.Button(\n",
    "    description='SVM Prediction',\n",
    "    icon='start',\n",
    "    button_style='info',\n",
    "    layout=widgets.Layout(width='200px',height='35px')\n",
    ")\n",
    "\n",
    "#Logistic button\n",
    "b_log = widgets.Button(\n",
    "    description='Logistic Prediction',\n",
    "    icon='start',\n",
    "    button_style='info',\n",
    "    layout=widgets.Layout(width='200px',height='35px')\n",
    ")\n",
    "\n",
    "#Neural button\n",
    "b_neural = widgets.Button(\n",
    "    description='Neural Networks Prediction',\n",
    "    icon='start',\n",
    "    button_style='info',\n",
    "    layout=widgets.Layout(width='200px',height='35px')\n",
    ")\n",
    "\n",
    "def svm_predict(c):\n",
    "    global random_choice\n",
    "    print(\"SVM Prediction is \" +str(svm_predictions[random_choice]))\n",
    "\n",
    "def log_predict(c):\n",
    "    global random_choice\n",
    "    print(\"Logistic Prediction is \"+str(log_predictions[random_choice]))\n",
    "\n",
    "def neural_predict(c):\n",
    "    global random_choice\n",
    "    print(\"Neural Prediction is \"+str(neural_predictions[random_choice]))\n",
    "\n",
    "# Storing predictions of each technique in respective label\n",
    "b_svm.on_click(svm_predict)\n",
    "b_log.on_click(log_predict)\n",
    "b_neural.on_click(neural_predict)\n",
    "\n",
    "#predictions = \"Prediction for svm is \" + svm_answer + \" Prediction for logistic is  \" + log_answer + \" Prediction for neural is \" + neural_answer"
   ]
  },
  {
   "cell_type": "code",
   "execution_count": 20,
   "metadata": {},
   "outputs": [],
   "source": [
    "random_choice = 0"
   ]
  },
  {
   "cell_type": "code",
   "execution_count": 21,
   "metadata": {},
   "outputs": [],
   "source": [
    "techniques = widgets.HBox(\n",
    "        children=(b_svm, b_log, b_neural)\n",
    ")"
   ]
  },
  {
   "cell_type": "code",
   "execution_count": 28,
   "metadata": {},
   "outputs": [
    {
     "data": {
      "application/vnd.jupyter.widget-view+json": {
       "model_id": "2ecd3d86f73e483ab0d7d2ef78e6a67b",
       "version_major": 2,
       "version_minor": 0
      },
      "text/plain": [
       "Button(button_style='success', description='Start', icon='apple', layout=Layout(bottom='10px', height='60px', …"
      ]
     },
     "metadata": {},
     "output_type": "display_data"
    },
    {
     "data": {
      "application/vnd.jupyter.widget-view+json": {
       "model_id": "2ba00abe63434a3bb07a7b57ac93a9bd",
       "version_major": 2,
       "version_minor": 0
      },
      "text/plain": [
       "HBox(children=(Button(button_style='info', description='SVM Prediction', icon='start', layout=Layout(height='3…"
      ]
     },
     "metadata": {},
     "output_type": "display_data"
    },
    {
     "data": {
      "application/vnd.jupyter.widget-view+json": {
       "model_id": "df91dfc35629479c8c019a0eb2201640",
       "version_major": 2,
       "version_minor": 0
      },
      "text/plain": [
       "Button(button_style='warning', description='True Result', icon='apple', layout=Layout(bottom='10px', height='6…"
      ]
     },
     "metadata": {},
     "output_type": "display_data"
    },
    {
     "data": {
      "image/png": "[encoded data removed]",
      "text/plain": [
       "<Figure size 432x288 with 1 Axes>"
      ]
     },
     "metadata": {
      "needs_background": "light"
     },
     "output_type": "display_data"
    },
    {
     "name": "stdout",
     "output_type": "stream",
     "text": [
      "SVM Prediction is 5\n",
      "Logistic Prediction is 5\n",
      "Neural Prediction is 4\n",
      "Correct value is 5\n",
      "Correct value is 5\n",
      "Correct value is 5\n",
      "Correct value is 5\n",
      "Correct value is 5\n",
      "Correct value is 5\n"
     ]
    }
   ],
   "source": [
    " \n",
    "def start_click(b):\n",
    "    # Images\n",
    "    global random_choice\n",
    "    random_choice = randint(0,299)\n",
    "    Xrecons = X_test.reshape(300,64,64,3)\n",
    "    indextoshow = random_choice\n",
    "    plt.imshow(Xrecons[indextoshow])\n",
    "    \n",
    "def result_click(a):\n",
    "    global random_choice\n",
    "    correct_output =  str(y_test[random_choice])\n",
    "    print(\"Correct value is \"+ correct_output)\n",
    "    \n",
    "b_start.on_click(start_click)\n",
    "display(b_start)\n",
    "b_result.on_click(result_click)\n",
    "display(techniques)\n",
    "display(b_result)\n"
   ]
  },
  {
   "cell_type": "code",
   "execution_count": null,
   "metadata": {},
   "outputs": [],
   "source": []
  },
  {
   "cell_type": "code",
   "execution_count": null,
   "metadata": {},
   "outputs": [],
   "source": []
  }
 ],
 "metadata": {
  "kernelspec": {
   "display_name": "Python 3",
   "language": "python",
   "name": "python3"
  },
  "language_info": {
   "codemirror_mode": {
    "name": "ipython",
    "version": 3
   },
   "file_extension": ".py",
   "mimetype": "text/x-python",
   "name": "python",
   "nbconvert_exporter": "python",
   "pygments_lexer": "ipython3",
   "version": "3.7.3"
  }
 },
 "nbformat": 4,
 "nbformat_minor": 2
}
